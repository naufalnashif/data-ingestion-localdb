{
 "cells": [
  {
   "cell_type": "markdown",
   "id": "763b6c39",
   "metadata": {},
   "source": [
    "# Python Script to Handle & Ingest .xlsx to Local Postgres DB"
   ]
  },
  {
   "cell_type": "markdown",
   "id": "d88dc598",
   "metadata": {},
   "source": [
    "### Install Dependencies"
   ]
  },
  {
   "cell_type": "code",
   "execution_count": 1,
   "id": "bddcc2dc",
   "metadata": {},
   "outputs": [],
   "source": [
    "import subprocess\n",
    "import os\n",
    "\n",
    "\n",
    "with open(os.devnull, 'wb') as devnull:\n",
    "    subprocess.run(\n",
    "        ['pip', 'install', '-r', '../requirements.txt'],\n",
    "        stdout=devnull,\n",
    "        stderr=devnull\n",
    "    )"
   ]
  },
  {
   "cell_type": "code",
   "execution_count": 2,
   "id": "80938ce9",
   "metadata": {},
   "outputs": [],
   "source": [
    "import sys\n",
    "\n",
    "# Tambahkan folder root ke sys.path\n",
    "sys.path.append('/Users/naufalnashif/Desktop/RF-OJK/Mas Adit OJK/Data Profile & Riwayat Entitiy Terbaru')"
   ]
  },
  {
   "cell_type": "code",
   "execution_count": 3,
   "id": "fda996f5",
   "metadata": {},
   "outputs": [],
   "source": [
    "import os\n",
    "import pandas as pd\n",
    "from sqlalchemy import create_engine, text\n",
    "from config import FOLDER_PATH, APPLICATION_FILES, SCHEMA_NAME, DB_CONFIG\n",
    "from ingest_helpers import load_excel_sheets, standardize_columns"
   ]
  },
  {
   "cell_type": "markdown",
   "id": "d829e25d",
   "metadata": {},
   "source": [
    "### Connect to DB"
   ]
  },
  {
   "cell_type": "code",
   "execution_count": 4,
   "id": "5c8c7670",
   "metadata": {},
   "outputs": [],
   "source": [
    "# DB Engine\n",
    "engine = create_engine(\n",
    "    f\"postgresql://{DB_CONFIG['user']}:{DB_CONFIG['password']}@{DB_CONFIG['host']}:{DB_CONFIG['port']}/{DB_CONFIG['database']}\"\n",
    ")"
   ]
  },
  {
   "cell_type": "markdown",
   "id": "00592c33",
   "metadata": {},
   "source": [
    "#### Make a new schema"
   ]
  },
  {
   "cell_type": "code",
   "execution_count": 5,
   "id": "50e30476",
   "metadata": {},
   "outputs": [],
   "source": [
    "with engine.connect() as conn:\n",
    "    conn.execute(text(f'CREATE SCHEMA IF NOT EXISTS \"{SCHEMA_NAME}\"'))\n",
    "    conn.commit()"
   ]
  },
  {
   "cell_type": "markdown",
   "id": "e9f3505b",
   "metadata": {},
   "source": [
    "### .Xlsx > Sheet > To tabel > Ingest to DB"
   ]
  },
  {
   "cell_type": "code",
   "execution_count": 7,
   "id": "bd12141f",
   "metadata": {},
   "outputs": [
    {
     "name": "stdout",
     "output_type": "stream",
     "text": [
      "📄 Processing APKAP.xlsx\n",
      "✅ Uploaded to table: rfojk_python.profil_entity_apkap\n",
      "✅ Uploaded to table: rfojk_python.riwayat_pendirian_apkap\n",
      "✅ Uploaded to table: rfojk_python.riwayat_direksi_apkap\n",
      "✅ Uploaded to table: rfojk_python.riwayat_komisaris_apkap\n",
      "✅ Uploaded to table: rfojk_python.riwayat_pemegang_saham_apkap\n",
      "✅ Uploaded to table: rfojk_python.riwayat_produk_aktivitas_apkap\n",
      "✅ Uploaded to table: rfojk_python.riwayat_dps_apkap\n",
      "📄 Processing SIPM.xlsx\n",
      "✅ Uploaded to table: rfojk_python.profil_entity_sipm\n",
      "✅ Uploaded to table: rfojk_python.riwayat_pendirian_sipm\n",
      "✅ Uploaded to table: rfojk_python.riwayat_direksi_sipm\n",
      "✅ Uploaded to table: rfojk_python.riwayat_komisaris_sipm\n",
      "✅ Uploaded to table: rfojk_python.riwayat_pemegang_saham_sipm\n",
      "✅ Uploaded to table: rfojk_python.riwayat_produk_aktivitas_sipm\n",
      "✅ Uploaded to table: rfojk_python.riwayat_dps_sipm\n",
      "📄 Processing SPRINT.xlsx\n",
      "✅ Uploaded to table: rfojk_python.profil_entity_sprint\n",
      "✅ Uploaded to table: rfojk_python.riwayat_pendirian_sprint\n",
      "✅ Uploaded to table: rfojk_python.riwayat_direksi_sprint\n",
      "✅ Uploaded to table: rfojk_python.riwayat_komisaris_sprint\n",
      "✅ Uploaded to table: rfojk_python.riwayat_pemegang_saham_sprint\n",
      "✅ Uploaded to table: rfojk_python.riwayat_produk_aktivitas_sprint\n",
      "✅ Uploaded to table: rfojk_python.riwayat_dps_sprint\n",
      "📄 Processing DAPOK.xlsx\n",
      "✅ Uploaded to table: rfojk_python.profil_entity_dapok\n",
      "✅ Uploaded to table: rfojk_python.riwayat_pendirian_dapok\n",
      "✅ Uploaded to table: rfojk_python.riwayat_direksi_dapok\n",
      "✅ Uploaded to table: rfojk_python.riwayat_komisaris_dapok\n",
      "✅ Uploaded to table: rfojk_python.riwayat_pemegang_saham_dapok\n",
      "✅ Uploaded to table: rfojk_python.riwayat_produk_aktivitas_dapok\n",
      "✅ Uploaded to table: rfojk_python.riwayat_dps_dapok\n"
     ]
    }
   ],
   "source": [
    "for file_name in APPLICATION_FILES:\n",
    "    app_name = file_name.replace('.xlsx', '').lower()\n",
    "    full_path = os.path.join(FOLDER_PATH, file_name)\n",
    "    print(f\"📄 Processing {file_name}\")\n",
    "\n",
    "    sheets = load_excel_sheets(full_path)\n",
    "\n",
    "    sheet_mapping = {\n",
    "        'profil_entity': sheets.get(list(sheets)[0]),\n",
    "        'riwayat_pendirian': sheets.get(list(sheets)[1]),\n",
    "        'riwayat_direksi': sheets.get(list(sheets)[2]),\n",
    "        'riwayat_komisaris': sheets.get(list(sheets)[3]),\n",
    "        'riwayat_pemegang_saham': sheets.get(list(sheets)[4]),\n",
    "        'riwayat_produk_aktivitas': sheets.get(list(sheets)[5]),\n",
    "        'riwayat_dps': sheets.get(list(sheets)[6])\n",
    "    }\n",
    "\n",
    "    for sheet_key, df in sheet_mapping.items():\n",
    "        if df is not None:\n",
    "            df = standardize_columns(df)\n",
    "            df.insert(0, 'application', app_name)\n",
    "            table_name = f\"{sheet_key}_{app_name}\".lower()\n",
    "\n",
    "            df.to_sql(\n",
    "                table_name,\n",
    "                engine,\n",
    "                schema=SCHEMA_NAME,\n",
    "                if_exists='replace',\n",
    "                index=False\n",
    "            )\n",
    "            print(f\"✅ Uploaded to table: {SCHEMA_NAME}.{table_name}\")"
   ]
  },
  {
   "cell_type": "markdown",
   "id": "1b85690e",
   "metadata": {},
   "source": [
    "### Make View & Datamarts"
   ]
  },
  {
   "cell_type": "code",
   "execution_count": 11,
   "id": "d398edb9",
   "metadata": {},
   "outputs": [
    {
     "name": "stdout",
     "output_type": "stream",
     "text": [
      "➡️ Creating view: rfojk_python.\"vw_profil_entity_union\"\n",
      "🧾 View has 13602 rows\n",
      "📄 Created table: rfojk_python.\"dm_profil_entity_union\"\n",
      "➡️ Creating view: rfojk_python.\"vw_riwayat_pendirian_union\"\n",
      "🧾 View has 12701 rows\n",
      "📄 Created table: rfojk_python.\"dm_riwayat_pendirian_union\"\n",
      "➡️ Creating view: rfojk_python.\"vw_riwayat_direksi_komisaris_union\"\n",
      "🧾 View has 16596 rows\n",
      "📄 Created table: rfojk_python.\"dm_riwayat_direksi_komisaris_union\"\n",
      "➡️ Creating view: rfojk_python.\"vw_riwayat_pemegang_saham_union\"\n",
      "🧾 View has 16036 rows\n",
      "📄 Created table: rfojk_python.\"dm_riwayat_pemegang_saham_union\"\n",
      "➡️ Creating view: rfojk_python.\"vw_riwayat_produk_aktivitas_union\"\n",
      "🧾 View has 19413 rows\n",
      "📄 Created table: rfojk_python.\"dm_riwayat_produk_aktivitas_union\"\n",
      "➡️ Creating view: rfojk_python.\"vw_riwayat_dps_union\"\n",
      "🧾 View has 496 rows\n",
      "📄 Created table: rfojk_python.\"dm_riwayat_dps_union\"\n"
     ]
    }
   ],
   "source": [
    "applications = ['APKAP', 'SIPM', 'SPRINT', 'DAPOK']\n",
    "schema = 'rfojk_python'\n",
    "\n",
    "view_definitions = {\n",
    "    \"vw_profil_entity_union\": {\n",
    "        \"base_name\": \"profil_entity\",\n",
    "        \"columns\": [\n",
    "            \"application\", \"institutionprofileid\", \"institutionname\",\n",
    "            \"idorigin\", \"npwp\", \"companyemail\", \"headofficeaddress\", \"webaddress\"\n",
    "        ]\n",
    "    },\n",
    "    \"vw_riwayat_pendirian_union\": {\n",
    "        \"base_name\": \"riwayat_pendirian\",\n",
    "        \"columns\": [\n",
    "            \"application\", \"institutionprofileid\", \"institutionname\", \"idorigin\", \"sector\",\n",
    "            \"subsector\", \"subsubsector\", \"legalentity\", \"licensetype\",\n",
    "            \"licensenumber\", \"licensedate\", \"statusljk\"\n",
    "        ]\n",
    "    },\n",
    "    \"vw_riwayat_direksi_komisaris_union\": {\n",
    "        \"base_name\": [\"riwayat_direksi\", \"riwayat_komisaris\"],\n",
    "        \"columns\": [\n",
    "            \"application\", \"institutionprofileid\", \"commissionername\",\n",
    "            \"commissionernationality\", \"commissionernik\", \"commissionerpassport\",\n",
    "            \"position\", \"officiateeffectivedate\", \"officiateenddate\", \"officiateinactivedate\"\n",
    "        ]\n",
    "    },\n",
    "    \"vw_riwayat_pemegang_saham_union\": {\n",
    "        \"base_name\": \"riwayat_pemegang_saham\",\n",
    "        \"columns\": [\n",
    "            \"application\", \"institutionprofileid\", \"individualownername\",\n",
    "            \"individualownernik\", \"individualownernpwp\", \"ownershipvalue\",\n",
    "            \"ownershippercentage\"\n",
    "        ]\n",
    "    },\n",
    "    \"vw_riwayat_produk_aktivitas_union\": {\n",
    "        \"base_name\": \"riwayat_produk_aktivitas\",\n",
    "        \"columns\": [\n",
    "            \"application\", \"institutionprofileid\", \"productname\", \"productdescription\",\n",
    "            \"producttype\", \"letternumber\", \"letterdate\", \"produteffectivedate\", \"productstatus\"\n",
    "        ]\n",
    "    },\n",
    "    \"vw_riwayat_dps_union\": {\n",
    "        \"base_name\": \"riwayat_dps\",\n",
    "        \"columns\": [\n",
    "            \"application\", \"institutionprofileid\", \"position\",\n",
    "            \"shariasupervisoryboardname\", \"shariasupervisoryboardnationality\",\n",
    "            \"shariasupervisoryboardnik\", \"shariasupervisoryboardpassport\",\n",
    "            \"officiateeffectivedate\", \"officiateenddate\", \"officiateinactivedate\"\n",
    "        ]\n",
    "    }\n",
    "}\n",
    "\n",
    "\n",
    "def generate_column_list(columns, application):\n",
    "    quoted_columns = []\n",
    "    for col in columns:\n",
    "        if col == 'application':\n",
    "            quoted_columns.append(f\"'{application}' AS application\")\n",
    "        else:\n",
    "            quoted_columns.append(f'\"{col.lower()}\"::text')\n",
    "    return ', '.join(quoted_columns)\n",
    "\n",
    "\n",
    "for view_name, info in view_definitions.items():\n",
    "    base_names = info['base_name']\n",
    "    base_names = [base_names] if isinstance(base_names, str) else base_names\n",
    "    columns = info['columns']\n",
    "\n",
    "    union_queries = []\n",
    "\n",
    "    for app in applications:\n",
    "        for base in base_names:\n",
    "            table = f'{schema}.\"{base.lower()}_{app.lower()}\"'\n",
    "            select_clause = generate_column_list(columns, app)\n",
    "            union_queries.append(f\"SELECT {select_clause} FROM {table}\")\n",
    "\n",
    "    union_sql = \"\\nUNION\\n\".join(union_queries)\n",
    "    full_view_name = f'{schema}.\"{view_name}\"'\n",
    "    create_view_sql = f\"\"\"\n",
    "    CREATE OR REPLACE VIEW {full_view_name} AS\n",
    "    {union_sql};\n",
    "    \"\"\"\n",
    "\n",
    "    dm_table_name = view_name.replace(\"vw_\", \"dm_\")\n",
    "    full_dm_table = f'{schema}.\"{dm_table_name}\"'\n",
    "    create_dm_table_sql = f\"\"\"\n",
    "    DROP TABLE IF EXISTS {full_dm_table};\n",
    "\n",
    "    CREATE TABLE {full_dm_table} AS\n",
    "    SELECT * FROM {full_view_name};\n",
    "    \"\"\"\n",
    "\n",
    "    try:\n",
    "        with engine.begin() as conn:\n",
    "            print(f\"➡️ Creating view: {full_view_name}\")\n",
    "            conn.execute(text(create_view_sql))\n",
    "\n",
    "            count = conn.execute(\n",
    "                text(f\"SELECT COUNT(*) FROM {full_view_name}\")\n",
    "            ).scalar()\n",
    "\n",
    "            print(f\"🧾 View has {count} rows\")\n",
    "\n",
    "            if count > 0:\n",
    "                conn.execute(text(create_dm_table_sql))\n",
    "                print(f\"📄 Created table: {full_dm_table}\")\n",
    "            else:\n",
    "                print(f\"⚠️ Skipped table creation, view is empty\")\n",
    "\n",
    "    except Exception as e:\n",
    "        print(f\"❌ Error: {e}\")\n"
   ]
  },
  {
   "cell_type": "markdown",
   "id": "de8bae03",
   "metadata": {},
   "source": [
    "### Left Join "
   ]
  },
  {
   "cell_type": "code",
   "execution_count": null,
   "id": "95adece8",
   "metadata": {},
   "outputs": [],
   "source": []
  }
 ],
 "metadata": {
  "kernelspec": {
   "display_name": ".venv",
   "language": "python",
   "name": "python3"
  },
  "language_info": {
   "codemirror_mode": {
    "name": "ipython",
    "version": 3
   },
   "file_extension": ".py",
   "mimetype": "text/x-python",
   "name": "python",
   "nbconvert_exporter": "python",
   "pygments_lexer": "ipython3",
   "version": "3.13.1"
  }
 },
 "nbformat": 4,
 "nbformat_minor": 5
}
